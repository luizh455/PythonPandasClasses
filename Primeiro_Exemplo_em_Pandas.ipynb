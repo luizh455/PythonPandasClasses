{
  "nbformat": 4,
  "nbformat_minor": 0,
  "metadata": {
    "colab": {
      "provenance": [],
      "authorship_tag": "ABX9TyPnIwALvTjxlFl8rnU31E2k",
      "include_colab_link": true
    },
    "kernelspec": {
      "name": "python3",
      "display_name": "Python 3"
    },
    "language_info": {
      "name": "python"
    }
  },
  "cells": [
    {
      "cell_type": "markdown",
      "metadata": {
        "id": "view-in-github",
        "colab_type": "text"
      },
      "source": [
        "<a href=\"https://colab.research.google.com/github/luizh455/PythonPandasClasses/blob/main/Primeiro_Exemplo_em_Pandas.ipynb\" target=\"_parent\"><img src=\"https://colab.research.google.com/assets/colab-badge.svg\" alt=\"Open In Colab\"/></a>"
      ]
    },
    {
      "cell_type": "code",
      "execution_count": 1,
      "metadata": {
        "colab": {
          "base_uri": "https://localhost:8080/"
        },
        "id": "o4-owUnwCzW_",
        "outputId": "72a19269-ae84-43da-8c76-d530f5ef1d48"
      },
      "outputs": [
        {
          "output_type": "stream",
          "name": "stdout",
          "text": [
            "aopa\n"
          ]
        }
      ],
      "source": [
        "print(\"Aopa\")"
      ]
    },
    {
      "cell_type": "markdown",
      "source": [
        "**Exemplo de manipulação de dados usando Python Pandas**\n",
        "\n",
        "Autor: Luiz Silva\n",
        "\n",
        "Data: 6 de fevereiro de 2023"
      ],
      "metadata": {
        "id": "YY3EjoiNUhm9"
      }
    },
    {
      "cell_type": "code",
      "source": [
        "#importando biblioteca pandas no Python\n",
        "import pandas as pd\n",
        "combustiveis_df = pd.read_csv(\"\")"
      ],
      "metadata": {
        "id": "9ZA6AfGSUkgm"
      },
      "execution_count": null,
      "outputs": []
    }
  ]
}